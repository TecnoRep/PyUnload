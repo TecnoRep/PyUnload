{
 "cells": [
  {
   "cell_type": "code",
   "execution_count": 73,
   "metadata": {},
   "outputs": [],
   "source": [
    "import pyodbc  \n",
    "import json\n",
    "\n",
    "DataSource = \"DSN=BaseSQL32\"\n",
    "ExportFile = \"PyUnload\"\n",
    "ExportDataDir = \"C:\\\\PyUnload2\\\\PyUnload\\\\\"\n",
    "Usuarios = ['PRG','MIGAP']\n",
    "maxRowsToMigrate = 100"
   ]
  },
  {
   "cell_type": "code",
   "execution_count": 74,
   "metadata": {},
   "outputs": [],
   "source": [
    "# Estrae la lista de TABLAS y VISTAS de un propietario especifico\n",
    " \n",
    "def crearModeloDatos(DataSource, Usuarios):\n",
    "\n",
    "    modeloDatos = {}\n",
    "    creator_id = \"\"\n",
    "    conexionDB = pyodbc.connect(DataSource)\n",
    "    cursor = conexionDB.cursor()\n",
    "\n",
    "    for user in Usuarios:\n",
    "\n",
    "        # Se determina el ID del usuario propietario de las tablas\n",
    "        sql_creador  = \"SELECT * FROM SYSUSERS WHERE NAME = \" + \"'\" + user + \"'\"\n",
    "        cursor.execute(sql_creador)\n",
    "        row = cursor.fetchone()\n",
    "        creator_id=row.suid\n",
    "\n",
    "        # Se extrae la lista de tablas de las cuales el usuario es propitario \n",
    "        sql_tablas = \"SELECT * FROM SYSTABLE WHERE TABLE_TYPE = \\'BASE\\'\"\n",
    "        sql_tablas = sql_tablas + \" AND CREATOR=\" + str(creator_id)\n",
    "        sql_tablas = sql_tablas + \" ORDER BY TABLE_NAME \"\n",
    "        cursor.execute(sql_tablas)\n",
    "        rows_table = cursor.fetchall()\n",
    "\n",
    "        modeloDatos[user] = {}\n",
    "        \n",
    "        for row_table in rows_table:\n",
    "    \n",
    "            modeloDatos[user][row_table.table_name] = {\n",
    "            \"table_id\" : row_table.table_id,\n",
    "            \"table_count\" : row_table.count }\n",
    "\n",
    "            #print(row_table.table_name)\n",
    "\n",
    "            # Extrae las columnas de cada tabla\n",
    "            sql_columnas  = \"SELECT * FROM SYSCOLUMNS WHERE TNAME = \" + \"'\" + row_table.table_name + \"'\" + \" ORDER BY COLNO\"\n",
    "            \n",
    "            cursor.execute(sql_columnas)\n",
    "            rows_columns = cursor.fetchall()\n",
    "            modeloDatos[user][row_table.table_name][\"table_columns\"] = []\n",
    "\n",
    "            for row_column in rows_columns:\n",
    "                obj = {\n",
    "                \"col_name\" : row_column.cname,\n",
    "                \"col_type\" :row_column.coltype,\n",
    "                \"col_null\" :row_column.nulls,\n",
    "                \"col_length\" : row_column.length,\n",
    "                \"col_syslength\" : row_column.syslength,\n",
    "                \"col_inPK\": row_column.in_primary_key }\n",
    "                modeloDatos[user][row_table.table_name][\"table_columns\"].append(obj)\n",
    "\n",
    "                #print(\"\\t\",row_column.cname)\n",
    "\n",
    "            modeloDatos[user][row_table.table_name][\"table_indexes\"] = []\n",
    "\n",
    "            sql_indices  = \"SELECT * FROM SYSINDEXES WHERE INDEXTYPE = 'Non-unique' AND TNAME =\" + \"'\" + row_table.table_name + \"' order by iname\"   \n",
    "\n",
    "            cursor.execute(sql_indices)\n",
    "            rows_indices = cursor.fetchall()\n",
    "            \n",
    "            for rows_indice in rows_indices:\n",
    "                obj={}\n",
    "                obj[\"ind_name\"]=rows_indice.iname\n",
    "                colnames=rows_indice.colnames\n",
    "                obj[\"columns\"]=colnames.split(',')\n",
    "                modeloDatos[user][row_table.table_name][\"table_indexes\"] .append(obj)\n",
    "\n",
    "                #print(\"\\t\",rows_indice.tname)\n",
    "        \n",
    "\n",
    "    cursor.close()\n",
    "    conexionDB.close()\n",
    "\n",
    "    return modeloDatos"
   ]
  },
  {
   "cell_type": "code",
   "execution_count": 75,
   "metadata": {},
   "outputs": [],
   "source": [
    "modeloDatos = crearModeloDatos(DataSource,Usuarios)"
   ]
  },
  {
   "cell_type": "code",
   "execution_count": 77,
   "metadata": {},
   "outputs": [],
   "source": [
    "file = open(\"ModeloDatos.json\", \"w\" )\n",
    "file.write(json.dumps(modeloDatos))\n",
    "file.close()"
   ]
  }
 ],
 "metadata": {
  "kernelspec": {
   "display_name": "base",
   "language": "python",
   "name": "python3"
  },
  "language_info": {
   "codemirror_mode": {
    "name": "ipython",
    "version": 3
   },
   "file_extension": ".py",
   "mimetype": "text/x-python",
   "name": "python",
   "nbconvert_exporter": "python",
   "pygments_lexer": "ipython3",
   "version": "3.9.12"
  },
  "orig_nbformat": 4,
  "vscode": {
   "interpreter": {
    "hash": "7ca91ee53e11810437779e17b9183778132d40a72a83d6f726233b9683d3fe1a"
   }
  }
 },
 "nbformat": 4,
 "nbformat_minor": 2
}
