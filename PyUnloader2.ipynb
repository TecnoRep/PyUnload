{
 "cells": [
  {
   "cell_type": "code",
   "execution_count": 6,
   "metadata": {},
   "outputs": [],
   "source": [
    "import pyodbc  \n",
    "\n",
    "DataSource = \"DSN=BaseSQL32\"\n",
    "ExportFile = \"PyUnload\"\n",
    "ExportDataDir = \"C:\\\\PyUnload2\\\\PyUnload\\\\\"\n",
    "Usuarios = ['PRG']\n",
    "#Usuarios = [\"Productos\", \"Gestores\", \"Usuarios\", \"Inventario\", \"Empresas\"]\n",
    "maxRows = 100"
   ]
  },
  {
   "cell_type": "code",
   "execution_count": 15,
   "metadata": {},
   "outputs": [],
   "source": [
    "# Estrae la lista de TABLAS y VISTAS de un propietario especifico\n",
    " \n",
    "def crearModeloDatos(DataSource, Usuarios):\n",
    "\n",
    "    modeloDatos = {}\n",
    "    creator_id = \"\"\n",
    "    conexionDB = pyodbc.connect(DataSource)\n",
    "    cursor = conexionDB.cursor()\n",
    "\n",
    "    for user in Usuarios:\n",
    "\n",
    "        # Se determina el ID del usuario propietario de las tablas\n",
    "        sql_creador  = \"SELECT * FROM SYSUSERS WHERE NAME = \" + \"'\" + user + \"'\"\n",
    "        cursor.execute(sql_creador)\n",
    "        row = cursor.fetchone()\n",
    "        creator_id=row.suid\n",
    "\n",
    "        # Se extrae la lista de tablas de las cuales el usuario es propitario \n",
    "        sql_tablas = \"SELECT * FROM SYSTABLE WHERE TABLE_TYPE = \\'BASE\\'\"\n",
    "        sql_tablas = sql_tablas + \" AND CREATOR=\" + str(creator_id)\n",
    "        sql_tablas = sql_tablas + \" ORDER BY TABLE_NAME \"\n",
    "        cursor.execute(sql_tablas)\n",
    "        row_table = cursor.fetchall()\n",
    "\n",
    "        for row_table in rows:\n",
    "            modeloDatos[\"table_creator\"] = user\n",
    "            modeloDatos[\"table_id\"] = row_table.table_id\n",
    "            modeloDatos[\"table_count\"]= row_table.count\n",
    "            modeloDatos[\"table_name\"]= row_table.table_name\n",
    "            modeloDatos[\"table_columnas\"]= []\n",
    "\n",
    "            # Extrae las columnas de cada tabla\n",
    "            sql_usuarios  = \"SELECT * FROM SYSCOLUMNS WHERE TNAME = \" + \"'\" + row.table_name + \"'\" + \" ORDER BY COLNO\"\n",
    "            \n",
    "            cursor.execute(sql_usuarios)\n",
    "            row_columns = cursor.fetchall()\n",
    "\n",
    "            for row_columns in rows:\n",
    "                obj = {}\n",
    "                #obj[\"table_name\"]=row.table_name\n",
    "                obj[\"col_name\"]=row_columns.cname\n",
    "                obj[\"col_type\"]=row_columns.coltype\n",
    "                obj[\"col_null\"]=row_columns.nulls\n",
    "                obj[\"col_length\"]=row_columns.length\n",
    "                obj[\"col_syslength\"]=row_columns.syslength\n",
    "                obj[\"col_inPK\"]=row_columns.in_primary_key\n",
    "                modeloDatos[\"table_columnas\"].append(obj)\n",
    "\n",
    "    cursor.close()\n",
    "    conexionDB.close()\n",
    "\n",
    "    return modeloDatos"
   ]
  },
  {
   "cell_type": "code",
   "execution_count": 16,
   "metadata": {},
   "outputs": [
    {
     "ename": "UnboundLocalError",
     "evalue": "local variable 'rows' referenced before assignment",
     "output_type": "error",
     "traceback": [
      "\u001b[1;31m---------------------------------------------------------------------------\u001b[0m",
      "\u001b[1;31mUnboundLocalError\u001b[0m                         Traceback (most recent call last)",
      "\u001b[1;32mc:\\PyUnload2\\PyUnload\\PyUnloader2.ipynb Cell 3\u001b[0m in \u001b[0;36m<cell line: 1>\u001b[1;34m()\u001b[0m\n\u001b[1;32m----> <a href='vscode-notebook-cell:/c%3A/PyUnload2/PyUnload/PyUnloader2.ipynb#W2sZmlsZQ%3D%3D?line=0'>1</a>\u001b[0m modeloDatos \u001b[39m=\u001b[39m crearModeloDatos(DataSource,Usuarios)\n\u001b[0;32m      <a href='vscode-notebook-cell:/c%3A/PyUnload2/PyUnload/PyUnloader2.ipynb#W2sZmlsZQ%3D%3D?line=1'>2</a>\u001b[0m modeloDatos\n",
      "\u001b[1;32mc:\\PyUnload2\\PyUnload\\PyUnloader2.ipynb Cell 3\u001b[0m in \u001b[0;36mcrearModeloDatos\u001b[1;34m(DataSource, Usuarios)\u001b[0m\n\u001b[0;32m     <a href='vscode-notebook-cell:/c%3A/PyUnload2/PyUnload/PyUnloader2.ipynb#W2sZmlsZQ%3D%3D?line=21'>22</a>\u001b[0m cursor\u001b[39m.\u001b[39mexecute(sql_tablas)\n\u001b[0;32m     <a href='vscode-notebook-cell:/c%3A/PyUnload2/PyUnload/PyUnloader2.ipynb#W2sZmlsZQ%3D%3D?line=22'>23</a>\u001b[0m row_table \u001b[39m=\u001b[39m cursor\u001b[39m.\u001b[39mfetchall()\n\u001b[1;32m---> <a href='vscode-notebook-cell:/c%3A/PyUnload2/PyUnload/PyUnloader2.ipynb#W2sZmlsZQ%3D%3D?line=24'>25</a>\u001b[0m \u001b[39mfor\u001b[39;00m row_table \u001b[39min\u001b[39;00m rows:\n\u001b[0;32m     <a href='vscode-notebook-cell:/c%3A/PyUnload2/PyUnload/PyUnloader2.ipynb#W2sZmlsZQ%3D%3D?line=25'>26</a>\u001b[0m     modeloDatos[\u001b[39m\"\u001b[39m\u001b[39mtable_creator\u001b[39m\u001b[39m\"\u001b[39m] \u001b[39m=\u001b[39m user\n\u001b[0;32m     <a href='vscode-notebook-cell:/c%3A/PyUnload2/PyUnload/PyUnloader2.ipynb#W2sZmlsZQ%3D%3D?line=26'>27</a>\u001b[0m     modeloDatos[\u001b[39m\"\u001b[39m\u001b[39mtable_id\u001b[39m\u001b[39m\"\u001b[39m] \u001b[39m=\u001b[39m row_table\u001b[39m.\u001b[39mtable_id\n",
      "\u001b[1;31mUnboundLocalError\u001b[0m: local variable 'rows' referenced before assignment"
     ]
    }
   ],
   "source": [
    "modeloDatos = crearModeloDatos(DataSource,Usuarios)\n",
    "modeloDatos\n"
   ]
  },
  {
   "cell_type": "code",
   "execution_count": null,
   "metadata": {},
   "outputs": [],
   "source": []
  }
 ],
 "metadata": {
  "kernelspec": {
   "display_name": "base",
   "language": "python",
   "name": "python3"
  },
  "language_info": {
   "codemirror_mode": {
    "name": "ipython",
    "version": 3
   },
   "file_extension": ".py",
   "mimetype": "text/x-python",
   "name": "python",
   "nbconvert_exporter": "python",
   "pygments_lexer": "ipython3",
   "version": "3.9.12"
  },
  "orig_nbformat": 4,
  "vscode": {
   "interpreter": {
    "hash": "7ca91ee53e11810437779e17b9183778132d40a72a83d6f726233b9683d3fe1a"
   }
  }
 },
 "nbformat": 4,
 "nbformat_minor": 2
}
